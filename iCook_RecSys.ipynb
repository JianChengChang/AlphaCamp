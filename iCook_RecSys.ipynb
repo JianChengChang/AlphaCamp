{
  "nbformat": 4,
  "nbformat_minor": 0,
  "metadata": {
    "colab": {
      "name": "iCook_RecSys.ipynb",
      "provenance": [],
      "authorship_tag": "ABX9TyPhr5xTbdAedjWMObO4FyoM",
      "include_colab_link": true
    },
    "kernelspec": {
      "name": "python3",
      "display_name": "Python 3"
    },
    "language_info": {
      "name": "python"
    }
  },
  "cells": [
    {
      "cell_type": "markdown",
      "metadata": {
        "id": "view-in-github",
        "colab_type": "text"
      },
      "source": [
        "<a href=\"https://colab.research.google.com/github/JianChengChang/AlphaCamp/blob/main/iCook_RecSys.ipynb\" target=\"_parent\"><img src=\"https://colab.research.google.com/assets/colab-badge.svg\" alt=\"Open In Colab\"/></a>"
      ]
    },
    {
      "cell_type": "code",
      "execution_count": null,
      "metadata": {
        "id": "T2QF8N08u5h_"
      },
      "outputs": [],
      "source": [
        ""
      ]
    }
  ]
}